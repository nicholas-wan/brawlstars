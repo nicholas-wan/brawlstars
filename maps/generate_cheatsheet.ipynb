{
 "cells": [
  {
   "cell_type": "code",
   "execution_count": 8,
   "id": "closing-latino",
   "metadata": {
    "scrolled": false
   },
   "outputs": [
    {
     "name": "stdout",
     "output_type": "stream",
     "text": [
      "Loading page (1/2)\n",
      "Rendering (2/2)                                                    \n",
      "Done                                                               \n",
      "Complete, image saved to: infographics/infographics1.png\n",
      "Loading page (1/2)\n",
      "Rendering (2/2)                                                    \n",
      "Done                                                               \n",
      "Complete, image saved to: infographics/infographics2.png\n",
      "Loading page (1/2)\n",
      "Rendering (2/2)                                                    \n",
      "Done                                                               \n",
      "Complete, image saved to: infographics/infographics3.png\n",
      "Loading page (1/2)\n",
      "Rendering (2/2)                                                    \n",
      "Done                                                               \n",
      "Complete, image saved to: infographics/checklist.png\n"
     ]
    }
   ],
   "source": [
    "from cheatsheet_utils import *\n",
    "import pandas.io.formats.style\n",
    "import imgkit\n",
    "from PIL import ImageOps, Image\n",
    "import os\n",
    "\n",
    "options = {\n",
    "  \"enable-local-file-access\": None\n",
    "}\n",
    "\n",
    "# Generate Top 12 brawlers overall\n",
    "best_brawlers_df = get_best_brawlers()\n",
    "\n",
    "def df_to_png(df, output_png):\n",
    "    write_to_html_file(df, filename='temp.html')\n",
    "    imgkit.from_file('temp.html', output_png, options=options)\n",
    "    if output_png == 'infographics/infographics1.png':\n",
    "        img = Image.open(output_png)\n",
    "        border = (0, 0, 365, 0) # left, top, right, bottom\n",
    "        img = ImageOps.crop(img, border)\n",
    "        img.save(output_png)\n",
    "        \n",
    "    if output_png == 'infographics/checklist.png':\n",
    "        img = Image.open(output_png)\n",
    "        border = (0, 0, 620, 0) # left, top, right, bottom\n",
    "        img = ImageOps.crop(img, border)\n",
    "        img.save(output_png)\n",
    "            \n",
    "    os.remove('temp.html')\n",
    "    print('Complete, image saved to:', output_png)\n",
    "    \n",
    "df_to_png(best_brawlers_df, 'infographics/infographics1.png')\n",
    "\n",
    "# Generate best brawlers for each map. Save in 2 seperate png\n",
    "cheatsheet = get_best_brawlers_map()\n",
    "cheatsheet_part1 = cheatsheet.fillna('   ').head(9)\n",
    "cheatsheet_part2 = cheatsheet.fillna('   ').tail(len(cheatsheet)-9)\n",
    "df_to_png(cheatsheet_part1, 'infographics/infographics2.png')\n",
    "df_to_png(cheatsheet_part2, 'infographics/infographics3.png')\n",
    "\n",
    "checklist_df = get_best_brawlers_checklist(best_brawlers_df, 'c9')#, team_tags = team_tags_tribe)\n",
    "df_to_png(checklist_df, 'infographics/checklist.png')"
   ]
  },
  {
   "cell_type": "code",
   "execution_count": null,
   "id": "05111764",
   "metadata": {},
   "outputs": [],
   "source": []
  }
 ],
 "metadata": {
  "kernelspec": {
   "display_name": "Python 3 (ipykernel)",
   "language": "python",
   "name": "python3"
  },
  "language_info": {
   "codemirror_mode": {
    "name": "ipython",
    "version": 3
   },
   "file_extension": ".py",
   "mimetype": "text/x-python",
   "name": "python",
   "nbconvert_exporter": "python",
   "pygments_lexer": "ipython3",
   "version": "3.7.0"
  }
 },
 "nbformat": 4,
 "nbformat_minor": 5
}
