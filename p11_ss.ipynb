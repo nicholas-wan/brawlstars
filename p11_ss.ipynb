{
 "cells": [
  {
   "cell_type": "code",
   "execution_count": 25,
   "id": "754e3262",
   "metadata": {},
   "outputs": [],
   "source": [
    "import pandas as pd\n",
    "from PIL import Image\n",
    "from IPython.core.display import display,HTML\n"
   ]
  },
  {
   "cell_type": "code",
   "execution_count": 48,
   "id": "125fcb60",
   "metadata": {},
   "outputs": [
    {
     "data": {
      "text/plain": [
       "['Bea',\n",
       " 'Belle',\n",
       " 'Crow',\n",
       " 'Emz',\n",
       " 'Fang',\n",
       " 'Gene',\n",
       " 'Gus',\n",
       " 'Leon',\n",
       " 'Max',\n",
       " 'Mortis',\n",
       " 'Penny',\n",
       " 'Ruffs',\n",
       " 'Sandy',\n",
       " 'Squeak',\n",
       " 'Stu',\n",
       " 'Surge',\n",
       " 'Tara']"
      ]
     },
     "execution_count": 48,
     "metadata": {},
     "output_type": "execute_result"
    }
   ],
   "source": [
    "p11_list = 'BEA, BELLE, CROW, EMZ, FANG, GENE, GUS, LEON, MAX, MORTIS, PENNY, RUFFS, SANDY, SQUEAK, STU, SURGE, TARA'\n",
    "p11_list = p11_list.split(', ')\n",
    "p11_list = [x.capitalize() for x in p11_list]\n",
    "p11_list"
   ]
  },
  {
   "cell_type": "code",
   "execution_count": 53,
   "id": "6e2ddb49",
   "metadata": {},
   "outputs": [],
   "source": [
    "def path_to_image_html(path, width='40'):\n",
    "    return '<img src=\"'+ path + '\" width=\"{}\" >'.format(width)"
   ]
  },
  {
   "cell_type": "code",
   "execution_count": 54,
   "id": "ce81801d",
   "metadata": {},
   "outputs": [
    {
     "data": {
      "text/html": [
       "<table border=\"1\" class=\"dataframe\">\n",
       "  <thead>\n",
       "    <tr style=\"text-align: right;\">\n",
       "      <th></th>\n",
       "      <th>Bea</th>\n",
       "      <th>Belle</th>\n",
       "      <th>Crow</th>\n",
       "      <th>Emz</th>\n",
       "      <th>Fang</th>\n",
       "      <th>Gene</th>\n",
       "      <th>Gus</th>\n",
       "      <th>Leon</th>\n",
       "      <th>Max</th>\n",
       "      <th>Mortis</th>\n",
       "      <th>Penny</th>\n",
       "      <th>Ruffs</th>\n",
       "      <th>Sandy</th>\n",
       "      <th>Squeak</th>\n",
       "      <th>Stu</th>\n",
       "      <th>Surge</th>\n",
       "      <th>Tara</th>\n",
       "    </tr>\n",
       "  </thead>\n",
       "  <tbody>\n",
       "    <tr>\n",
       "      <th>brawler_images</th>\n",
       "      <td><img src=\"maps/brawler_images/Bea.png\" width=\"40\" ></td>\n",
       "      <td><img src=\"maps/brawler_images/Belle.png\" width=\"40\" ></td>\n",
       "      <td><img src=\"maps/brawler_images/Crow.png\" width=\"40\" ></td>\n",
       "      <td><img src=\"maps/brawler_images/Emz.png\" width=\"40\" ></td>\n",
       "      <td><img src=\"maps/brawler_images/Fang.png\" width=\"40\" ></td>\n",
       "      <td><img src=\"maps/brawler_images/Gene.png\" width=\"40\" ></td>\n",
       "      <td><img src=\"maps/brawler_images/Gus.png\" width=\"40\" ></td>\n",
       "      <td><img src=\"maps/brawler_images/Leon.png\" width=\"40\" ></td>\n",
       "      <td><img src=\"maps/brawler_images/Max.png\" width=\"40\" ></td>\n",
       "      <td><img src=\"maps/brawler_images/Mortis.png\" width=\"40\" ></td>\n",
       "      <td><img src=\"maps/brawler_images/Penny.png\" width=\"40\" ></td>\n",
       "      <td><img src=\"maps/brawler_images/Ruffs.png\" width=\"40\" ></td>\n",
       "      <td><img src=\"maps/brawler_images/Sandy.png\" width=\"40\" ></td>\n",
       "      <td><img src=\"maps/brawler_images/Squeak.png\" width=\"40\" ></td>\n",
       "      <td><img src=\"maps/brawler_images/Stu.png\" width=\"40\" ></td>\n",
       "      <td><img src=\"maps/brawler_images/Surge.png\" width=\"40\" ></td>\n",
       "      <td><img src=\"maps/brawler_images/Tara.png\" width=\"40\" ></td>\n",
       "    </tr>\n",
       "  </tbody>\n",
       "</table>"
      ],
      "text/plain": [
       "<IPython.core.display.HTML object>"
      ]
     },
     "metadata": {},
     "output_type": "display_data"
    }
   ],
   "source": [
    "df = pd.DataFrame(p11_list)\n",
    "df['brawler_images'] = df[0].map(lambda x: 'maps/brawler_images/'+x+'.png')\n",
    "df['brawler_images'] = df['brawler_images'].map(path_to_image_html)\n",
    "df = df.T\n",
    "df.columns = df.iloc[0]\n",
    "df = df.drop([0])\n",
    "display(HTML(df.to_html(escape=False)))\n"
   ]
  },
  {
   "cell_type": "code",
   "execution_count": null,
   "id": "d57f7bbf",
   "metadata": {},
   "outputs": [],
   "source": []
  }
 ],
 "metadata": {
  "kernelspec": {
   "display_name": "Python 3 (ipykernel)",
   "language": "python",
   "name": "python3"
  },
  "language_info": {
   "codemirror_mode": {
    "name": "ipython",
    "version": 3
   },
   "file_extension": ".py",
   "mimetype": "text/x-python",
   "name": "python",
   "nbconvert_exporter": "python",
   "pygments_lexer": "ipython3",
   "version": "3.7.0"
  }
 },
 "nbformat": 4,
 "nbformat_minor": 5
}
