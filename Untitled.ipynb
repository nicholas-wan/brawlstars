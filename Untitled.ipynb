{
 "cells": [
  {
   "cell_type": "code",
   "execution_count": 8,
   "id": "055ae002",
   "metadata": {},
   "outputs": [
    {
     "name": "stdout",
     "output_type": "stream",
     "text": [
      "2RJPY00PL\n",
      "['2RJPY00PL'] [] []\n",
      "1 0 0\n"
     ]
    }
   ],
   "source": [
    "import brawlstats\n",
    "import pandas as pd\n",
    "from tqdm import tqdm\n",
    "from datetime import date\n",
    "import string\n",
    "import argparse\n",
    "import statistics\n",
    "import requests\n",
    "import re\n",
    "\n",
    "from pl_mapping_dict import mapping_dict\n",
    "from get_pl_rank import *\n",
    "\n",
    "headers = {'User-Agent': 'Mozilla/5.0 (X11; Linux x86_64; rv:12.0) Gecko/20100101 Firefox/12.0'}\n",
    "\n",
    "\n",
    "####################\n",
    "### API KEY PATH ###\n",
    "####################\n",
    "\n",
    "# Insert your api_key path here, e.g C:/Users/username/Desktop/api_key.txt\n",
    "api_key = \"api_key.txt\"\n",
    "\n",
    "today = date.today()\n",
    "\n",
    "# Insert your Brawl Stars Developer's API Key into a file in the same directory 'api_key.txt'\n",
    "with open(api_key,'r') as f:\n",
    "    token = f.read()\n",
    "\n",
    "client = brawlstats.Client(token)\n",
    "\n",
    "def valid_player_tag(tag):\n",
    "    \"\"\"\n",
    "    params: tag (string) \n",
    "    output: boolean\n",
    "    \"\"\"\n",
    "    try:\n",
    "        player = client.get_player(tag)\n",
    "        return True\n",
    "    except:\n",
    "        return False\n",
    "\n",
    "def valid_club_tag(tag):\n",
    "    \"\"\"\n",
    "    params: tag (string) \n",
    "    output: boolean\n",
    "    \"\"\"\n",
    "    try:\n",
    "        club = client.get_club(tag)\n",
    "        return True\n",
    "    except:\n",
    "        return False\n",
    "    \n",
    "player_tags = []\n",
    "club_tags = []\n",
    "invalid_tags = []\n",
    "\n",
    "tags = [ '2RJPY00PL']\n",
    "\n",
    "\n",
    "for tag in tags:\n",
    "    print(tag)\n",
    "    valid_tag = False\n",
    "    if valid_club_tag(tag):\n",
    "        print('Club Tag Detected')\n",
    "        club_tags.append(tag)\n",
    "        valid_tag = True\n",
    "    if valid_player_tag(tag):\n",
    "        player_tags.append(tag)\n",
    "        valid_tag = True\n",
    "    if valid_tag is False:\n",
    "        print(tag, 'Error')\n",
    "        invalid_tags.append(tag)\n",
    "print(player_tags, club_tags, invalid_tags)\n",
    "print(len(player_tags), len(club_tags), len(invalid_tags))\n",
    "    "
   ]
  },
  {
   "cell_type": "code",
   "execution_count": 4,
   "id": "68225c07",
   "metadata": {},
   "outputs": [
    {
     "data": {
      "text/plain": [
       "False"
      ]
     },
     "execution_count": 4,
     "metadata": {},
     "output_type": "execute_result"
    }
   ],
   "source": [
    "valid_club_tag('U28LQU')"
   ]
  },
  {
   "cell_type": "code",
   "execution_count": 9,
   "id": "129ad4ae",
   "metadata": {},
   "outputs": [
    {
     "data": {
      "text/plain": [
       "False"
      ]
     },
     "execution_count": 9,
     "metadata": {},
     "output_type": "execute_result"
    }
   ],
   "source": [
    "valid_club_tag('2RJPY00PL')"
   ]
  },
  {
   "cell_type": "code",
   "execution_count": 10,
   "id": "f43bd79a",
   "metadata": {},
   "outputs": [
    {
     "data": {
      "text/plain": [
       "True"
      ]
     },
     "execution_count": 10,
     "metadata": {},
     "output_type": "execute_result"
    }
   ],
   "source": [
    "valid_player_tag('2RJPY00PL')"
   ]
  },
  {
   "cell_type": "code",
   "execution_count": null,
   "id": "fca74c6f",
   "metadata": {},
   "outputs": [],
   "source": [
    "python main.py -t #U28LQU #G2VJRPY #UJYYPCJC #V90CV0VJ #2GQRRVC20 #2R8LCYRC2 #2RJPY00PL #208PJLLRV\n"
   ]
  }
 ],
 "metadata": {
  "kernelspec": {
   "display_name": "Python 3 (ipykernel)",
   "language": "python",
   "name": "python3"
  },
  "language_info": {
   "codemirror_mode": {
    "name": "ipython",
    "version": 3
   },
   "file_extension": ".py",
   "mimetype": "text/x-python",
   "name": "python",
   "nbconvert_exporter": "python",
   "pygments_lexer": "ipython3",
   "version": "3.7.0"
  }
 },
 "nbformat": 4,
 "nbformat_minor": 5
}
